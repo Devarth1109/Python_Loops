{
 "cells": [
  {
   "cell_type": "markdown",
   "id": "57a9b9e6",
   "metadata": {},
   "source": [
    "# Python Loops"
   ]
  },
  {
   "cell_type": "code",
   "execution_count": 6,
   "id": "2404cc7e",
   "metadata": {},
   "outputs": [
    {
     "name": "stdout",
     "output_type": "stream",
     "text": [
      "0\n",
      "1\n",
      "2\n",
      "3\n",
      "4\n",
      "5\n",
      "6\n",
      "7\n",
      "8\n",
      "9\n",
      "10\n"
     ]
    }
   ],
   "source": [
    "# while loop \n",
    "\"\"\"with the while loop we can execute the statement as long as a condition\n",
    "is true\"\"\"\n",
    "i = 0\n",
    "while i <= 10 :\n",
    "    print(i)\n",
    "    i += 1"
   ]
  },
  {
   "cell_type": "code",
   "execution_count": 7,
   "id": "8a1257c3",
   "metadata": {},
   "outputs": [
    {
     "name": "stdout",
     "output_type": "stream",
     "text": [
      "0\n",
      "1\n",
      "2\n",
      "3\n",
      "4\n"
     ]
    }
   ],
   "source": [
    "# while loop with break statement\n",
    "i = 0\n",
    "while i <= 10 :\n",
    "    print(i)\n",
    "    if i == 4 :\n",
    "        break\n",
    "    i += 1"
   ]
  },
  {
   "cell_type": "code",
   "execution_count": 10,
   "id": "017c07de",
   "metadata": {},
   "outputs": [
    {
     "name": "stdout",
     "output_type": "stream",
     "text": [
      "1\n",
      "2\n",
      "4\n",
      "5\n",
      "6\n",
      "7\n",
      "8\n",
      "9\n",
      "10\n"
     ]
    }
   ],
   "source": [
    "# while loop with continue statement\n",
    "i = 0\n",
    "while i < 10 :\n",
    "    i += 1\n",
    "    if i == 3 :\n",
    "        continue\n",
    "    print(i)"
   ]
  },
  {
   "cell_type": "code",
   "execution_count": 11,
   "id": "870c14f8",
   "metadata": {},
   "outputs": [
    {
     "name": "stdout",
     "output_type": "stream",
     "text": [
      "0\n",
      "1\n",
      "2\n",
      "3\n",
      "4\n",
      "5\n",
      "6\n",
      "7\n",
      "8\n",
      "9\n",
      "no more then values...\n"
     ]
    }
   ],
   "source": [
    "# while loop with else statement\n",
    "i = 0\n",
    "while i < 10 :\n",
    "    print(i)\n",
    "    i += 1\n",
    "else :\n",
    "    print(\"no more then values...\")\n"
   ]
  },
  {
   "cell_type": "code",
   "execution_count": 15,
   "id": "90292a74",
   "metadata": {},
   "outputs": [
    {
     "name": "stdout",
     "output_type": "stream",
     "text": [
      "mango\n",
      "guava\n",
      "orange\n",
      "mango banana apple "
     ]
    }
   ],
   "source": [
    "# for loop \n",
    "\"\"\"a for loop is used to iterate over a sequence.\"\"\"\n",
    "fruits = \"mango\",\"guava\",\"orange\"\n",
    "for x in fruits :\n",
    "    print(x)\n",
    "    \n",
    "fruits = \"mango\",\"banana\",\"apple\"\n",
    "for x in fruits :\n",
    "    print(x, end = \" \")"
   ]
  },
  {
   "cell_type": "code",
   "execution_count": 18,
   "id": "eafb3bee",
   "metadata": {},
   "outputs": [
    {
     "name": "stdout",
     "output_type": "stream",
     "text": [
      "devarth\n",
      "bhumi\n"
     ]
    }
   ],
   "source": [
    "# for loop with break statement\n",
    "student = \"devarth\",\"bhumi\",\"devbhumi\"\n",
    "for y in student :\n",
    "    print(y)\n",
    "    if y == \"bhumi\" :\n",
    "        break"
   ]
  },
  {
   "cell_type": "code",
   "execution_count": 19,
   "id": "0ee510e1",
   "metadata": {},
   "outputs": [
    {
     "name": "stdout",
     "output_type": "stream",
     "text": [
      "BMW\n",
      "tata\n"
     ]
    }
   ],
   "source": [
    "# for loop with continue statement\n",
    "car = \"BMW\",\"audi\",\"tata\"\n",
    "for d in car :\n",
    "    if d == \"audi\" :\n",
    "        continue\n",
    "    print(d)"
   ]
  },
  {
   "cell_type": "code",
   "execution_count": 22,
   "id": "e314b82a",
   "metadata": {},
   "outputs": [
    {
     "name": "stdout",
     "output_type": "stream",
     "text": [
      "0\n",
      "1\n",
      "2\n",
      "3\n",
      "4\n",
      "5\n",
      "6\n",
      "7\n",
      "8\n",
      "9\n"
     ]
    }
   ],
   "source": [
    "# for loop with range()\n",
    "for x in range (10) :\n",
    "    print(x)"
   ]
  },
  {
   "cell_type": "code",
   "execution_count": 23,
   "id": "25c91076",
   "metadata": {},
   "outputs": [
    {
     "name": "stdout",
     "output_type": "stream",
     "text": [
      "0\n",
      "1\n",
      "2\n",
      "3\n"
     ]
    }
   ],
   "source": [
    "# for loop with range()\n",
    "for y in range (0, 4) :\n",
    "    print(y)"
   ]
  },
  {
   "cell_type": "code",
   "execution_count": 24,
   "id": "2f7dcea4",
   "metadata": {},
   "outputs": [
    {
     "name": "stdout",
     "output_type": "stream",
     "text": [
      "0\n",
      "2\n",
      "4\n",
      "6\n",
      "8\n"
     ]
    }
   ],
   "source": [
    "# for loop with range()\n",
    "for z in range (0, 10, 2) :\n",
    "    print(z)"
   ]
  }
 ],
 "metadata": {
  "kernelspec": {
   "display_name": "Python 3 (ipykernel)",
   "language": "python",
   "name": "python3"
  },
  "language_info": {
   "codemirror_mode": {
    "name": "ipython",
    "version": 3
   },
   "file_extension": ".py",
   "mimetype": "text/x-python",
   "name": "python",
   "nbconvert_exporter": "python",
   "pygments_lexer": "ipython3",
   "version": "3.10.9"
  }
 },
 "nbformat": 4,
 "nbformat_minor": 5
}
